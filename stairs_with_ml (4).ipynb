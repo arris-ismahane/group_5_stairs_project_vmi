{
  "nbformat": 4,
  "nbformat_minor": 0,
  "metadata": {
    "colab": {
      "provenance": []
    },
    "kernelspec": {
      "name": "python3",
      "display_name": "Python 3"
    },
    "language_info": {
      "name": "python"
    }
  },
  "cells": [
    {
      "cell_type": "markdown",
      "source": [
        "## Stair Counting with Machine Learning Project\n",
        "---\n",
        "\n",
        "##Introduction a l'analyse de l'image\n",
        "###Groupe 5 / M1 / VMI / UPC / 2024-2025\n",
        "\n",
        "\n",
        "*   Arris Ismahane\n",
        "*   Khoualdia Besma\n",
        "*   Amjad Hadia\n",
        "\n",
        "\n",
        "\n",
        "\n",
        "\n",
        "\n",
        "---\n"
      ],
      "metadata": {
        "id": "_NuG1hRrtV-3"
      }
    },
    {
      "cell_type": "markdown",
      "source": [
        "Processes images of staircases to predict the number of steps using machine learning."
      ],
      "metadata": {
        "id": "oO31se0Fh8tZ"
      }
    },
    {
      "cell_type": "markdown",
      "source": [
        "# Import Libraries"
      ],
      "metadata": {
        "id": "adMQ-maniFKo"
      }
    },
    {
      "cell_type": "code",
      "source": [
        "import os\n",
        "import cv2\n",
        "import math\n",
        "import numpy as np\n",
        "import pandas as pd\n",
        "import gdown\n",
        "import zipfile\n",
        "import matplotlib.pyplot as plt\n",
        "from skimage.feature import hog\n",
        "from sklearn.cluster import KMeans\n",
        "from sklearn.ensemble import RandomForestRegressor, GradientBoostingRegressor\n",
        "from sklearn.linear_model import ElasticNet\n",
        "from sklearn.svm import SVR\n",
        "from sklearn.model_selection import train_test_split\n",
        "from sklearn.metrics import mean_absolute_error\n",
        "from google.colab.patches import cv2_imshow"
      ],
      "metadata": {
        "id": "0_CwGcRCcuu5"
      },
      "execution_count": 1,
      "outputs": []
    },
    {
      "cell_type": "markdown",
      "source": [
        "#Import DataSet"
      ],
      "metadata": {
        "id": "SvKM3Fh9jF5x"
      }
    },
    {
      "cell_type": "code",
      "source": [
        "!gdown --id 1pZcR6YFhQyhvNcOCPLiB5Ei17p4fXmMh --output groupe5_data.zip"
      ],
      "metadata": {
        "colab": {
          "base_uri": "https://localhost:8080/"
        },
        "id": "p-9Wp9PPtJ2a",
        "outputId": "44adcf23-877f-4cb4-cf99-74cf6e9a7052"
      },
      "execution_count": 2,
      "outputs": [
        {
          "output_type": "stream",
          "name": "stdout",
          "text": [
            "/usr/local/lib/python3.11/dist-packages/gdown/__main__.py:140: FutureWarning: Option `--id` was deprecated in version 4.3.1 and will be removed in 5.0. You don't need to pass it anymore to use a file ID.\n",
            "  warnings.warn(\n",
            "Downloading...\n",
            "From (original): https://drive.google.com/uc?id=1pZcR6YFhQyhvNcOCPLiB5Ei17p4fXmMh\n",
            "From (redirected): https://drive.google.com/uc?id=1pZcR6YFhQyhvNcOCPLiB5Ei17p4fXmMh&confirm=t&uuid=50e1ef1d-8179-402e-8f06-66a2669ba037\n",
            "To: /content/groupe5_data.zip\n",
            "100% 145M/145M [00:05<00:00, 28.9MB/s]\n"
          ]
        }
      ]
    },
    {
      "cell_type": "code",
      "source": [
        "with zipfile.ZipFile(\"groupe5_data.zip\", 'r') as zip_ref:\n",
        "    zip_ref.extractall(\"groupe5_data\")"
      ],
      "metadata": {
        "id": "jXdCh4DAwOtE"
      },
      "execution_count": 3,
      "outputs": []
    },
    {
      "cell_type": "code",
      "source": [
        "input_csv = \"groupe5_data/annotations.csv\"\n",
        "data = \"groupe5_data/stairs_dataset\""
      ],
      "metadata": {
        "id": "o7ViEIhXc3s5"
      },
      "execution_count": 4,
      "outputs": []
    },
    {
      "cell_type": "markdown",
      "source": [
        "#Feature Extraction\n",
        "Read and pre process the image then extract its features"
      ],
      "metadata": {
        "id": "4cTXJpxRjI6X"
      }
    },
    {
      "cell_type": "code",
      "source": [
        "def extract_features(image_path, target_size=800):\n",
        "    # Load image\n",
        "    img = cv2.imread(image_path.strip())\n",
        "\n",
        "    if img is None:\n",
        "        print(f\"Error: Could not load image at {image_path}\")\n",
        "        return None\n",
        "\n",
        "    # Resize image if larger than target size\n",
        "    height, width = img.shape[:2]\n",
        "    img = cv2.resize(img, (target_size,target_size))\n",
        "    height, width = img.shape[:2]\n",
        "\n",
        "    # Convert to grayscale after resizing\n",
        "    img_gray = cv2.cvtColor(img, cv2.COLOR_BGR2GRAY)\n",
        "\n",
        "    # Edge-preserving filter\n",
        "    blur = cv2.bilateralFilter(img_gray, 9, 75, 75)\n",
        "\n",
        "    # Generelaized edge detection using canny\n",
        "    high_thresh = cv2.threshold(blur, 0, 255, cv2.THRESH_BINARY + cv2.THRESH_OTSU)[0]\n",
        "    edges = cv2.Canny(blur, max(25, 0.3*high_thresh), min(200, high_thresh))\n",
        "\n",
        "    # Adaptative line detection using Hough\n",
        "    min_len = max(10, int(min(height, width) * 0.1))\n",
        "    lines = cv2.HoughLinesP(edges, 1, np.pi/180,\n",
        "                            threshold=int(min(height, width) * 0.1),\n",
        "                            minLineLength=min_len,\n",
        "                            maxLineGap=int(min(height, width) * 0.03))\n",
        "\n",
        "    # Line angles clustering\n",
        "    line_count = 0\n",
        "    line_angles = []\n",
        "    if lines is not None:\n",
        "        lines = np.squeeze(lines)\n",
        "        if lines.ndim == 1:\n",
        "            lines = np.array([lines])\n",
        "\n",
        "        line_count = len(lines)\n",
        "        for line in lines:\n",
        "            x1, y1, x2, y2 = line[:4]\n",
        "            angle = math.degrees(math.atan2(y2-y1, x2-x1))\n",
        "            line_angles.append(angle)\n",
        "\n",
        "    # Calculate angle features like mean, std and range\n",
        "    angle_features = [0, 0, 0]\n",
        "    if line_angles:\n",
        "        angle_features = [\n",
        "            np.mean(line_angles),\n",
        "            np.std(line_angles),\n",
        "            max(line_angles) - min(line_angles)\n",
        "        ]\n",
        "\n",
        "    # HOG features\n",
        "    hog_features, hog_image = hog(img_gray, pixels_per_cell=(16, 16), cells_per_block=(2, 2), visualize=True)\n",
        "\n",
        "    return np.hstack([hog_features, line_count, angle_features])"
      ],
      "metadata": {
        "id": "6P3YdHywdYlX"
      },
      "execution_count": 5,
      "outputs": []
    },
    {
      "cell_type": "markdown",
      "source": [
        "# Data Splitting\n",
        "Split CSV dataset into train, validation, and test sets"
      ],
      "metadata": {
        "id": "mAXIJE8UkV9f"
      }
    },
    {
      "cell_type": "code",
      "source": [
        "def split_csv(input_csv, file_column, train_size=0.8, val_size=0.1, test_size=0.1, random_state=42):\n",
        "    df = pd.read_csv(input_csv)\n",
        "\n",
        "    # 1st split: train and temp (val+test)\n",
        "    train, temp = train_test_split(df, train_size=train_size, random_state=random_state)\n",
        "\n",
        "    # 2nd split: temp into val  test\n",
        "    val, test = train_test_split(temp, train_size=val_size/(val_size+test_size), random_state=random_state)\n",
        "\n",
        "    return train, val, test"
      ],
      "metadata": {
        "id": "1l8lremsjjJt"
      },
      "execution_count": 6,
      "outputs": []
    },
    {
      "cell_type": "markdown",
      "source": [
        "#Data Processing\n",
        "Load images and extract their features based on given DataFrame"
      ],
      "metadata": {
        "id": "oKqw7AKDk2QN"
      }
    },
    {
      "cell_type": "code",
      "source": [
        "def load_and_process_data(df, image_dir, extract_features_func):\n",
        "    #feature matrix and target values\n",
        "    X, y = [], []\n",
        "    for _, row in df.iterrows():\n",
        "        # Focus on \"name\" column to get the images\n",
        "        image_path = os.path.join(image_dir, row[\"name\"])\n",
        "        features = extract_features_func(image_path)\n",
        "        # Skip if feature extraction failed\n",
        "        if features is not None:\n",
        "            X.append(features)\n",
        "            y.append(row[\"count\"])\n",
        "\n",
        "    if len(X) == 0:\n",
        "        print(\"Warning: No valid features extracted!\")\n",
        "        return np.array([]), np.array([])\n",
        "\n",
        "    return np.array(X), np.array(y)"
      ],
      "metadata": {
        "id": "7OwEXDnIplk_"
      },
      "execution_count": 7,
      "outputs": []
    },
    {
      "cell_type": "markdown",
      "source": [
        "# Visualization Functions\n",
        "Plots for comparing between diffrent MAE scores\n"
      ],
      "metadata": {
        "id": "IEJRfNp6lVSd"
      }
    },
    {
      "cell_type": "code",
      "source": [
        "def visualize_model_comparison(val_results):\n",
        "    plt.figure(figsize=(8, 6))\n",
        "\n",
        "    # Get the minimum value and the corresponding model\n",
        "    min_value = min(val_results.values())\n",
        "    min_key = [k for k, v in val_results.items() if v == min_value][0]\n",
        "\n",
        "    # Create a list of colors, with green for the lowest value\n",
        "    bar_colors = ['#800020' if key == min_key else '#6495ED' for key in val_results.keys()]\n",
        "\n",
        "    plt.bar(val_results.keys(), val_results.values(), width=0.3, color=bar_colors)\n",
        "    plt.title('Model Comparison: Validation Set MAE')\n",
        "    plt.ylabel('Mean Absolute Error')\n",
        "    plt.xticks(rotation=45)\n",
        "    plt.tight_layout()\n",
        "    plt.show()"
      ],
      "metadata": {
        "id": "BQRFO5Nbls4s"
      },
      "execution_count": 8,
      "outputs": []
    },
    {
      "cell_type": "markdown",
      "source": [
        "A plot to compare between actual and predicted values"
      ],
      "metadata": {
        "id": "WmVIe_3uqpl6"
      }
    },
    {
      "cell_type": "code",
      "source": [
        "def visualize_actual_vs_predicted(y_test, y_pred):\n",
        "\n",
        "    # Sort by actual values for a better visual\n",
        "    sorted_indices = np.argsort(y_test)\n",
        "    y_test_sorted = np.array(y_test)[sorted_indices]\n",
        "    y_pred_sorted = np.array(y_pred)[sorted_indices]\n",
        "\n",
        "    bar_width = 0.4\n",
        "    indices = np.arange(len(y_test))\n",
        "    # Plot bars\n",
        "    plt.figure(figsize=(10, 6))\n",
        "    plt.bar(indices - bar_width/2, y_test_sorted, bar_width, label=\"Actual\", color=\"blue\", alpha=0.7)\n",
        "    plt.bar(indices + bar_width/2, y_pred_sorted, bar_width, label=\"Predicted\", color=\"orange\", alpha=0.7)\n",
        "\n",
        "    # Labels and legend\n",
        "    plt.xlabel(\"Sample Index\")\n",
        "    plt.ylabel(\"Count\")\n",
        "    plt.title(\"Comparison of Actual vs. Predicted Stair Counts\")\n",
        "    plt.xticks(indices)\n",
        "    plt.legend()\n",
        "    plt.grid(axis=\"y\", linestyle=\"--\", alpha=0.7)\n",
        "    plt.show()"
      ],
      "metadata": {
        "id": "QFHtqRy9lv5L"
      },
      "execution_count": 9,
      "outputs": []
    },
    {
      "cell_type": "markdown",
      "source": [
        "# Main Execution\n",
        "### Split dataset into train, validation, and test sets\n"
      ],
      "metadata": {
        "id": "5GPOkKnUmVf3"
      }
    },
    {
      "cell_type": "code",
      "source": [
        "# Main execution starts here\n",
        "print(\"Splitting dataset into train, validation, and test sets...\")\n",
        "train_df, val_df, test_df = split_csv(input_csv, 'name')\n",
        "\n",
        "print(f\"Train set: {len(train_df)} samples\")\n",
        "print(f\"Validation set: {len(val_df)} samples\")\n",
        "print(f\"Test set: {len(test_df)} samples\")\n",
        "\n",
        "# Process all splits using the helper function\n",
        "print(\"Extracting features from training set...\")\n",
        "X_train, y_train = load_and_process_data(train_df, data, extract_features)\n",
        "\n",
        "print(\"Extracting features from validation set...\")\n",
        "X_val, y_val = load_and_process_data(val_df, data, extract_features)\n",
        "\n",
        "print(\"Extracting features from test set...\")\n",
        "X_test, y_test = load_and_process_data(test_df, data, extract_features)\n",
        "\n",
        "print(f\"Processed features shapes: X_train={X_train.shape}, X_val={X_val.shape}, X_test={X_test.shape}\")"
      ],
      "metadata": {
        "colab": {
          "base_uri": "https://localhost:8080/"
        },
        "id": "hdEybMzgka0h",
        "outputId": "30f4da79-a626-4df9-c90e-6c748614ad85"
      },
      "execution_count": 10,
      "outputs": [
        {
          "output_type": "stream",
          "name": "stdout",
          "text": [
            "Splitting dataset into train, validation, and test sets...\n",
            "Train set: 78 samples\n",
            "Validation set: 10 samples\n",
            "Test set: 10 samples\n",
            "Extracting features from training set...\n",
            "Error: Could not load image at groupe5_data/stairs_dataset/t3i5.jpg\n",
            "Error: Could not load image at groupe5_data/stairs_dataset/t3i9.jpg\n",
            "Error: Could not load image at groupe5_data/stairs_dataset/img4.jpg\n",
            "Extracting features from validation set...\n",
            "Extracting features from test set...\n",
            "Processed features shapes: X_train=(75, 86440), X_val=(10, 86440), X_test=(10, 86440)\n"
          ]
        }
      ]
    },
    {
      "cell_type": "markdown",
      "source": [
        "### Define multiple models to try"
      ],
      "metadata": {
        "id": "aT-T2v8ymffZ"
      }
    },
    {
      "cell_type": "code",
      "source": [
        "models = {\n",
        "    \"RandomForest\": RandomForestRegressor(\n",
        "        n_estimators=70,\n",
        "        max_depth = 18,\n",
        "        min_samples_leaf = 6,\n",
        "        min_samples_split = 3,\n",
        "        random_state=42),\n",
        "   \"GradientBoosting\": GradientBoostingRegressor(\n",
        "        learning_rate = 0.2,\n",
        "        max_depth = 4,\n",
        "        n_estimators = 65,\n",
        "        subsample = 0.79,\n",
        "        random_state=42),\n",
        "    \"ElasticNet\": ElasticNet(random_state=42,\n",
        "            alpha= 0.2,\n",
        "            l1_ratio= 0.5,\n",
        "            max_iter= 1000,\n",
        "            tol= 1e-4),\n",
        "    \"SVR\": SVR(kernel='rbf', C=100, epsilon=0.1, gamma=0.1)\n",
        "}"
      ],
      "metadata": {
        "id": "-i09RuS5mjFE"
      },
      "execution_count": 11,
      "outputs": []
    },
    {
      "cell_type": "markdown",
      "source": [
        "##Evaluate each model on train/validation split"
      ],
      "metadata": {
        "id": "2AXBz_xkmlYJ"
      }
    },
    {
      "cell_type": "code",
      "source": [
        "best_model_name = None\n",
        "# Start with infinity for MAE (lower is better)\n",
        "best_val_score = float('inf')\n",
        "val_results = {}\n",
        "\n",
        "print(\"\\nEvaluating models on validation set...\")\n",
        "for name, model in models.items():\n",
        "    try:\n",
        "        # Train the model on training data\n",
        "        model.fit(X_train, y_train)\n",
        "\n",
        "        # Predict on validation set\n",
        "        y_val_pred = model.predict(X_val)\n",
        "\n",
        "        # Calculate MAE on validation set\n",
        "        val_mae = mean_absolute_error(y_val, y_val_pred)\n",
        "        val_results[name] = val_mae\n",
        "\n",
        "        print(f\"Model: {name}, Validation MAE: {val_mae:.4f}\")\n",
        "\n",
        "        # Track the best performing model\n",
        "        if val_mae < best_val_score:\n",
        "            best_val_score = val_mae\n",
        "            best_model_name = name\n",
        "    except Exception as e:\n",
        "        print(f\"Error evaluating {name}: {str(e)}\")"
      ],
      "metadata": {
        "id": "oNED14qcC1U_",
        "colab": {
          "base_uri": "https://localhost:8080/"
        },
        "outputId": "0d873f6b-7913-44e5-fe19-c40401dfc5ac"
      },
      "execution_count": 12,
      "outputs": [
        {
          "output_type": "stream",
          "name": "stdout",
          "text": [
            "\n",
            "Evaluating models on validation set...\n",
            "Model: RandomForest, Validation MAE: 3.0641\n",
            "Model: GradientBoosting, Validation MAE: 3.2215\n",
            "Model: ElasticNet, Validation MAE: 2.4508\n",
            "Model: SVR, Validation MAE: 3.9046\n"
          ]
        }
      ]
    },
    {
      "cell_type": "markdown",
      "source": [
        "##Train the best model on the combined training and validation data"
      ],
      "metadata": {
        "id": "EAcJQvGsmzAU"
      }
    },
    {
      "cell_type": "code",
      "source": [
        "if best_model_name:\n",
        "    print(f\"\\nBest model: {best_model_name} with Validation MAE: {best_val_score:.4f}\")\n",
        "\n",
        "    # First, combine training and validation data\n",
        "    X_train_val = np.vstack((X_train, X_val))\n",
        "    y_train_val = np.concatenate((y_train, y_val))\n",
        "\n",
        "    # Train best model on combined data\n",
        "    best_model = models[best_model_name]\n",
        "    best_model.fit(X_train_val, y_train_val)\n",
        "\n",
        "    # 4. Evaluate on test set\n",
        "    y_test_pred = best_model.predict(X_test)\n",
        "    test_mae = mean_absolute_error(y_test, y_test_pred)\n",
        "    print(f\"Test Set MAE with {best_model_name}: {test_mae:.4f}\")\n",
        "else:\n",
        "    print(\"No best model identified. Check for errors in the evaluation process.\")"
      ],
      "metadata": {
        "id": "knYh6qk0mv7b",
        "colab": {
          "base_uri": "https://localhost:8080/"
        },
        "outputId": "6e160463-43d1-4890-bb23-41d8d6944683"
      },
      "execution_count": 13,
      "outputs": [
        {
          "output_type": "stream",
          "name": "stdout",
          "text": [
            "\n",
            "Best model: ElasticNet with Validation MAE: 2.4508\n",
            "Test Set MAE with ElasticNet: 2.3943\n"
          ]
        }
      ]
    },
    {
      "cell_type": "markdown",
      "source": [
        "# Visualize model comparison"
      ],
      "metadata": {
        "id": "rkFX35mjnn7R"
      }
    },
    {
      "cell_type": "code",
      "source": [
        "visualize_model_comparison(val_results)"
      ],
      "metadata": {
        "id": "DPGNZUrInrNr",
        "colab": {
          "base_uri": "https://localhost:8080/",
          "height": 607
        },
        "outputId": "39fff646-bb50-4463-93e1-ae39fc9f41fa"
      },
      "execution_count": 14,
      "outputs": [
        {
          "output_type": "display_data",
          "data": {
            "text/plain": [
              "<Figure size 800x600 with 1 Axes>"
            ],
            "image/png": "[encoded data removed]"
          },
          "metadata": {}
        }
      ]
    },
    {
      "cell_type": "markdown",
      "source": [
        "# Visualize actual vs predicted values"
      ],
      "metadata": {
        "id": "_VV-nzFknEcL"
      }
    },
    {
      "cell_type": "code",
      "source": [
        "visualize_actual_vs_predicted(y_test, y_test_pred)"
      ],
      "metadata": {
        "id": "e2yGhvQkKE2t",
        "colab": {
          "base_uri": "https://localhost:8080/",
          "height": 564
        },
        "outputId": "d059bbb0-9b24-47ed-a1f1-8bbab95e8e18"
      },
      "execution_count": 15,
      "outputs": [
        {
          "output_type": "display_data",
          "data": {
            "text/plain": [
              "<Figure size 1000x600 with 1 Axes>"
            ],
            "image/png": "[encoded data removed]"
          },
          "metadata": {}
        }
      ]
    }
  ]
}